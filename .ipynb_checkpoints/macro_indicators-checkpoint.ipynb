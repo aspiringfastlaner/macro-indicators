{
 "cells": [
  {
   "cell_type": "code",
   "execution_count": 8,
   "metadata": {
    "collapsed": true
   },
   "outputs": [],
   "source": [
    "#%% Importing modules and data\n",
    "import smtplib\n",
    "import pandas as pd\n",
    "import numpy as np\n",
    "import datetime as dt\n",
    "import pandas.stats.moments as st\n",
    "from pandas import ExcelWriter\n",
    "import matplotlib.pyplot as plt\n",
    "import os\n",
    "import quandl\n",
    "import seaborn as sns\n",
    "import matplotlib.dates as dates\n",
    "import matplotlib.ticker as ticker\n",
    "from pandas_datareader import data\n",
    "\n",
    "%matplotlib inline\n",
    "\n",
    "def save_xls(list_dfs, xls_path,sheet_names):\n",
    "    writer = ExcelWriter(xls_path)\n",
    "    for n, df in enumerate(list_dfs):\n",
    "        df.to_excel(writer, sheet_names[n])\n",
    "    writer.save()\n",
    "    return"
   ]
  },
  {
   "cell_type": "code",
   "execution_count": 38,
   "metadata": {},
   "outputs": [],
   "source": [
    "### Collecting data\n",
    "\n",
    "spx = pd.read_csv('SPX.csv')\n",
    "\n",
    "# Economic data from Quandl\n",
    "\n",
    "unemployment_rate = quandl.get(\"FRED/NROUST\", authtoken=\"-ZxrLoLy3vKgLtLraaMn\")\n",
    "total_fed_debt = quandl.get(\"FRED/GFDEBTN\", authtoken=\"-ZxrLoLy3vKgLtLraaMn\")\n",
    "fed_debt_public_held = quandl.get(\"FRED/FYGFDPUN\", authtoken=\"-ZxrLoLy3vKgLtLraaMn\")\n",
    "public_debt_to_gdp = quandl.get(\"FRED/GFDEGDQ188S\", authtoken=\"-ZxrLoLy3vKgLtLraaMn\")\n",
    "household_debt_to_gdp = quandl.get(\"FRED/HDTGPDUSQ163N\", authtoken=\"-ZxrLoLy3vKgLtLraaMn\")\n",
    "industrial_production_final = quandl.get(\"FRED/IPB50002NQ\", authtoken=\"-ZxrLoLy3vKgLtLraaMn\")\n",
    "\n",
    "\n",
    "# Investing for a Living 6 macro factors\n",
    "civ_unemployment_rate = quandl.get(\"FRED/UNRATE\", authtoken=\"-ZxrLoLy3vKgLtLraaMn\")\n",
    "civ_unemployment_rate.columns = ['civ_unemployment_rate']\n",
    "\n",
    "real_retail_and_services = quandl.get(\"FRED/RRSFS\", authtoken=\"-ZxrLoLy3vKgLtLraaMn\")\n",
    "real_retail_and_services.columns = ['real_retail_and_services']\n",
    "\n",
    "industrial_production_consumer_goods = quandl.get(\"FRED/IPDCONGD\", authtoken=\"-ZxrLoLy3vKgLtLraaMn\")\n",
    "industrial_production_consumer_goods.columns = ['industrial_production_consumer_goods']\n",
    "\n",
    "new_housing = quandl.get(\"FRED/PERMIT\", authtoken=\"-ZxrLoLy3vKgLtLraaMn\")\n",
    "new_housing.columns = ['new_housing']\n",
    "\n",
    "yield_spread = quandl.get(\"FRED/T10Y3MM\", authtoken=\"-ZxrLoLy3vKgLtLraaMn\")\n",
    "yield_spread.columns = ['yield_spread']\n",
    "\n",
    "national_fin_conditions = quandl.get(\"FRED/NFCILEVERAGE\", authtoken=\"-ZxrLoLy3vKgLtLraaMn\")\n",
    "national_fin_conditions.columns = ['national_fin_conditions']"
   ]
  },
  {
   "cell_type": "code",
   "execution_count": 40,
   "metadata": {},
   "outputs": [
    {
     "data": {
      "text/html": [
       "<div>\n",
       "<style>\n",
       "    .dataframe thead tr:only-child th {\n",
       "        text-align: right;\n",
       "    }\n",
       "\n",
       "    .dataframe thead th {\n",
       "        text-align: left;\n",
       "    }\n",
       "\n",
       "    .dataframe tbody tr th {\n",
       "        vertical-align: top;\n",
       "    }\n",
       "</style>\n",
       "<table border=\"1\" class=\"dataframe\">\n",
       "  <thead>\n",
       "    <tr style=\"text-align: right;\">\n",
       "      <th></th>\n",
       "      <th>national_fin_conditions</th>\n",
       "    </tr>\n",
       "    <tr>\n",
       "      <th>Date</th>\n",
       "      <th></th>\n",
       "    </tr>\n",
       "  </thead>\n",
       "  <tbody>\n",
       "    <tr>\n",
       "      <th>1971-01-08</th>\n",
       "      <td>-1.84</td>\n",
       "    </tr>\n",
       "    <tr>\n",
       "      <th>1971-01-15</th>\n",
       "      <td>-1.86</td>\n",
       "    </tr>\n",
       "    <tr>\n",
       "      <th>1971-01-22</th>\n",
       "      <td>-1.89</td>\n",
       "    </tr>\n",
       "    <tr>\n",
       "      <th>1971-01-29</th>\n",
       "      <td>-1.91</td>\n",
       "    </tr>\n",
       "    <tr>\n",
       "      <th>1971-02-05</th>\n",
       "      <td>-1.93</td>\n",
       "    </tr>\n",
       "  </tbody>\n",
       "</table>\n",
       "</div>"
      ],
      "text/plain": [
       "            national_fin_conditions\n",
       "Date                               \n",
       "1971-01-08                    -1.84\n",
       "1971-01-15                    -1.86\n",
       "1971-01-22                    -1.89\n",
       "1971-01-29                    -1.91\n",
       "1971-02-05                    -1.93"
      ]
     },
     "execution_count": 40,
     "metadata": {},
     "output_type": "execute_result"
    }
   ],
   "source": [
    "national_fin_conditions.head()"
   ]
  },
  {
   "cell_type": "code",
   "execution_count": null,
   "metadata": {
    "collapsed": true
   },
   "outputs": [],
   "source": []
  }
 ],
 "metadata": {
  "kernelspec": {
   "display_name": "Python 3",
   "language": "python",
   "name": "python3"
  },
  "language_info": {
   "codemirror_mode": {
    "name": "ipython",
    "version": 3
   },
   "file_extension": ".py",
   "mimetype": "text/x-python",
   "name": "python",
   "nbconvert_exporter": "python",
   "pygments_lexer": "ipython3",
   "version": "3.6.1"
  }
 },
 "nbformat": 4,
 "nbformat_minor": 2
}
