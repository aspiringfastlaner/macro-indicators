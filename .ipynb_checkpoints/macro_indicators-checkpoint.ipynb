{
 "cells": [
  {
   "cell_type": "code",
   "execution_count": 8,
   "metadata": {
    "collapsed": true
   },
   "outputs": [],
   "source": [
    "#%% Importing modules and data\n",
    "import smtplib\n",
    "import pandas as pd\n",
    "import numpy as np\n",
    "import datetime as dt\n",
    "import pandas.stats.moments as st\n",
    "from pandas import ExcelWriter\n",
    "import matplotlib.pyplot as plt\n",
    "import os\n",
    "import quandl\n",
    "import seaborn as sns\n",
    "import matplotlib.dates as dates\n",
    "import matplotlib.ticker as ticker\n",
    "from pandas_datareader import data\n",
    "\n",
    "%matplotlib inline\n",
    "\n",
    "def save_xls(list_dfs, xls_path,sheet_names):\n",
    "    writer = ExcelWriter(xls_path)\n",
    "    for n, df in enumerate(list_dfs):\n",
    "        df.to_excel(writer, sheet_names[n])\n",
    "    writer.save()\n",
    "    return"
   ]
  },
  {
   "cell_type": "code",
   "execution_count": 17,
   "metadata": {},
   "outputs": [
    {
     "name": "stderr",
     "output_type": "stream",
     "text": [
      "C:\\Users\\Fang\\Anaconda3\\lib\\site-packages\\ipykernel_launcher.py:12: DeprecationWarning: \n",
      ".ix is deprecated. Please use\n",
      ".loc for label based indexing or\n",
      ".iloc for positional indexing\n",
      "\n",
      "See the documentation here:\n",
      "http://pandas.pydata.org/pandas-docs/stable/indexing.html#deprecate_ix\n",
      "  if sys.path[0] == '':\n"
     ]
    }
   ],
   "source": [
    "### Collecting data\n",
    "\n",
    "tickers = ['SPY']\n",
    "# Define which online source one should use\n",
    "data_source = 'google'\n",
    "# We would like all available data from 01/01/2000 until 12/31/2016.\n",
    "start = dt.datetime(2000, 1, 1)\n",
    "end = dt.datetime.today()\n",
    "# User pandas_reader.data.DataReader to load the desired data. As simple as that.\n",
    "panel_data = data.DataReader(tickers, data_source, start, end)\n",
    "\n",
    "spy = panel_data.ix['Close']\n",
    "\n",
    "\n",
    "# Economic data from Quandl\n",
    "\n",
    "unemployment_rate = quandl.get(\"FRED/NROUST\", authtoken=\"-ZxrLoLy3vKgLtLraaMn\")\n",
    "total_fed_debt = quandl.get(\"FRED/GFDEBTN\", authtoken=\"-ZxrLoLy3vKgLtLraaMn\")\n",
    "fed_debt_public_held = quandl.get(\"FRED/FYGFDPUN\", authtoken=\"-ZxrLoLy3vKgLtLraaMn\")\n",
    "public_debt_to_gdp = quandl.get(\"FRED/GFDEGDQ188S\", authtoken=\"-ZxrLoLy3vKgLtLraaMn\")\n",
    "household_debt_to_gdp = quandl.get(\"FRED/HDTGPDUSQ163N\", authtoken=\"-ZxrLoLy3vKgLtLraaMn\")\n",
    "industrial_production_final = quandl.get(\"FRED/IPB50002NQ\", authtoken=\"-ZxrLoLy3vKgLtLraaMn\")\n",
    "\n",
    "\n",
    "# Investing for a Living 6 macro factors\n",
    "civ_unemployment_rate = quandl.get(\"FRED/UNRATE\", authtoken=\"-ZxrLoLy3vKgLtLraaMn\")\n",
    "real_retail_and_services = quandl.get(\"FRED/RRSFS\", authtoken=\"-ZxrLoLy3vKgLtLraaMn\")\n",
    "industrial_production_consumer_goods = quandl.get(\"FRED/IPDCONGD\", authtoken=\"-ZxrLoLy3vKgLtLraaMn\")\n",
    "new_housing = quandl.get(\"FRED/PERMIT\", authtoken=\"-ZxrLoLy3vKgLtLraaMn\")"
   ]
  },
  {
   "cell_type": "code",
   "execution_count": null,
   "metadata": {},
   "outputs": [],
   "source": []
  },
  {
   "cell_type": "code",
   "execution_count": null,
   "metadata": {
    "collapsed": true
   },
   "outputs": [],
   "source": []
  }
 ],
 "metadata": {
  "kernelspec": {
   "display_name": "Python 3",
   "language": "python",
   "name": "python3"
  },
  "language_info": {
   "codemirror_mode": {
    "name": "ipython",
    "version": 3
   },
   "file_extension": ".py",
   "mimetype": "text/x-python",
   "name": "python",
   "nbconvert_exporter": "python",
   "pygments_lexer": "ipython3",
   "version": "3.6.1"
  }
 },
 "nbformat": 4,
 "nbformat_minor": 2
}
